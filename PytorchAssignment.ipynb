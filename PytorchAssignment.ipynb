{
  "nbformat": 4,
  "nbformat_minor": 0,
  "metadata": {
    "colab": {
      "provenance": []
    },
    "kernelspec": {
      "name": "python3",
      "display_name": "Python 3"
    },
    "language_info": {
      "name": "python"
    }
  },
  "cells": [
    {
      "cell_type": "code",
      "execution_count": 20,
      "metadata": {
        "colab": {
          "base_uri": "https://localhost:8080/"
        },
        "id": "CqKrajQteqKb",
        "outputId": "b425b95f-ac2a-4b23-9f1e-fa52ae4ee2d6"
      },
      "outputs": [
        {
          "output_type": "stream",
          "name": "stdout",
          "text": [
            "Looking in indexes: https://pypi.org/simple, https://us-python.pkg.dev/colab-wheels/public/simple/\n",
            "Requirement already satisfied: torch in /usr/local/lib/python3.8/dist-packages (1.13.0+cu116)\n",
            "Requirement already satisfied: typing-extensions in /usr/local/lib/python3.8/dist-packages (from torch) (4.4.0)\n"
          ]
        }
      ],
      "source": [
        "# Install Pytorch\n",
        "!pip install torch"
      ]
    },
    {
      "cell_type": "code",
      "source": [
        "# Import for the neccesaary classes\n",
        "import numpy as np\n",
        "import torch\n",
        "import torchvision # provide access to datasets, models, transforms, utils, etc\n",
        "import torchvision.transforms as transforms\n",
        "import torch.nn.functional as F\n",
        "import torch.optim as optim\n",
        "import torch.nn as nn"
      ],
      "metadata": {
        "id": "LtjRevCzfRGK"
      },
      "execution_count": 21,
      "outputs": []
    },
    {
      "cell_type": "code",
      "source": [
        "# set the MNIST trainSet\n",
        "train_set = torchvision.datasets.MNIST(\n",
        "    root='./data',\n",
        "    train=True,\n",
        "    download=True,\n",
        "    transform = transforms.Compose([\n",
        "          transforms.ToTensor()\n",
        "    ])\n",
        ")\n",
        "print(len(train_set))\n",
        "\n",
        "sample = next(iter(train_set))"
      ],
      "metadata": {
        "id": "6sDLkxhZfTGf",
        "colab": {
          "base_uri": "https://localhost:8080/"
        },
        "outputId": "d43d97e8-9e72-4b88-da3a-b1b757bfc3e7"
      },
      "execution_count": 22,
      "outputs": [
        {
          "output_type": "stream",
          "name": "stdout",
          "text": [
            "60000\n"
          ]
        }
      ]
    },
    {
      "cell_type": "markdown",
      "source": [
        "Create the Neural Network which takes two inputs i,e MNIST image and a random No and produce two outputs i,e number printed on the image and the Sum of Number on the image and   randon Number"
      ],
      "metadata": {
        "id": "h6JKupsq70sN"
      }
    },
    {
      "cell_type": "code",
      "source": [
        "class Network(nn.Module):\n",
        "  def __init__(self):\n",
        "    super().__init__()\n",
        "    self.conv1 = nn.Conv2d(in_channels=1, out_channels=6, kernel_size=5) \n",
        "    self.conv2 = nn.Conv2d(in_channels=6, out_channels=12, kernel_size=5)\n",
        "    self.fc1 = nn.Linear(in_features=12 * 4 * 4, out_features=120)\n",
        "    self.fc2 = nn.Linear(in_features=120, out_features=60)\n",
        "    self.out = nn.Linear(in_features=60, out_features=10)\n",
        "  \n",
        "  def forward(self, t,t1):\n",
        "    # input layer\n",
        "    x = t\n",
        "    # conv1 layer\n",
        "    x = self.conv1(x) # 28 > 24\n",
        "    x = F.relu(x)\n",
        "    x = F.max_pool2d(x, kernel_size=2, stride=2) # 28 | 24 | 12\n",
        "    # conv2 layer\n",
        "    x = self.conv2(x) # 12\n",
        "    x = F.relu(x) # 8\n",
        "    x = F.max_pool2d(x, kernel_size=2, stride=2) # 12 | 8 | 4 >> 12x4x4\n",
        "    # reshapre\n",
        "    x = x.reshape(-1, 12 * 4 * 4)\n",
        "    # fc1 layer\n",
        "    x = self.fc1(x)\n",
        "    x = F.relu(x)\n",
        "    # fc2 layer\n",
        "    x = self.fc2(x)\n",
        "    x = F.relu(x)\n",
        "    # output layer\n",
        "    x = self.out(x)\n",
        "    # Note Adding two Numbers i,e below is Sum of (Random no Passed and digit on MNIST image passed)\n",
        "    t1 = F.softmax(x, dim=1).argmax(dim=1) + t1\n",
        "    return x,t1"
      ],
      "metadata": {
        "id": "FCVsEx66bRZV"
      },
      "execution_count": 23,
      "outputs": []
    },
    {
      "cell_type": "markdown",
      "source": [
        "Check whether the Network Class is working as expected. In our case it should except two input Parameters  and return two outputs\n"
      ],
      "metadata": {
        "id": "XnqJmZDriSda"
      }
    },
    {
      "cell_type": "code",
      "source": [
        "sample = next(iter(train_set)) \n",
        "image, label = sample\n",
        "print('Label = '+ str(label))\n",
        "network_test = Network()\n",
        "pred = network_test(image,6)\n",
        "print(pred[0])\n",
        "print(pred[1])"
      ],
      "metadata": {
        "colab": {
          "base_uri": "https://localhost:8080/"
        },
        "id": "gIAHyx_BiQlo",
        "outputId": "cfb842cb-6e8a-4c99-89ff-4ecdff3336ba"
      },
      "execution_count": 24,
      "outputs": [
        {
          "output_type": "stream",
          "name": "stdout",
          "text": [
            "Label = 5\n",
            "tensor([[ 0.0921, -0.0102, -0.0825, -0.0105, -0.0536, -0.0646,  0.0149, -0.1035,\n",
            "         -0.0100, -0.0975]], grad_fn=<AddmmBackward0>)\n",
            "tensor([6])\n"
          ]
        }
      ]
    },
    {
      "cell_type": "markdown",
      "source": [
        "Define Helper Funtions"
      ],
      "metadata": {
        "id": "YRz9emOM78Sh"
      }
    },
    {
      "cell_type": "code",
      "source": [
        "import tensorflow as tf\n",
        "def get_num_correct(preds, labels):\n",
        "  return preds.argmax(dim=1).eq(labels).sum().item()\n",
        "\n",
        "def get_num_correct_Sum(preds, labels):\n",
        "  return preds.eq(labels).sum().item()\n",
        "\n",
        "def get_mean_absolute_loss(a,b):\n",
        "  c = torch.abs(a - b) \n",
        "  return c.mean(dtype=torch.float32).item()  \n"
      ],
      "metadata": {
        "id": "Zr04JsqEsTuk"
      },
      "execution_count": 25,
      "outputs": []
    },
    {
      "cell_type": "markdown",
      "source": [
        "Train the Model"
      ],
      "metadata": {
        "id": "HedH6-U38C8B"
      }
    },
    {
      "cell_type": "code",
      "source": [
        "device = torch.device(\"cuda\" if torch.cuda.is_available() else \"cpu\")\n",
        "network = Network().to(device)\n",
        "\n",
        "batchSize = 100\n",
        "train_loader = torch.utils.data.DataLoader(train_set, batch_size=batchSize)\n",
        "optimizer = optim.Adam(network.parameters(), lr=0.01)\n",
        "\n",
        "for epoch in range(10):\n",
        "  total_loss = 0\n",
        "  total_correct = 0\n",
        "  total_loss_sum = 0\n",
        "  total_correct_sum = 0\n",
        "  for batch in train_loader: # Get Batch\n",
        "      images, labels = batch \n",
        "      # Random No generation Strategy . \n",
        "      # Note -: Size should be same as above batch size here its 100\n",
        "      random_tensor = torch.randint(low=0, high=9 , size=(batchSize,))\n",
        "      #labels_Sum_Image_RandonNo is the sum of Random No and sample image \n",
        "      labels_Sum_Image_RandonNo = labels + random_tensor\n",
        "      #print('Labels Sum = '+ str(labels_Sum_Image_RandonNo))\n",
        "      preds = network(images,random_tensor) # Pass Batch\n",
        "      loss = F.cross_entropy(preds[0], labels) # Calculate Loss\n",
        "      #print('Predicted Sum = '+ str(preds[1]))\n",
        "      #loss = mse_loss(preds[0].numpy(), labels.numpy()) # Calculate Loss\n",
        "      optimizer.zero_grad()\n",
        "      loss.backward() # Calculate Gradients\n",
        "      optimizer.step() # Update Weights\n",
        "\n",
        "      total_loss += loss.item()\n",
        "      total_correct += get_num_correct(preds[0], labels)\n",
        "      \n",
        "      # Loss function used is Mean absolute Error\n",
        "      total_loss_sum += get_mean_absolute_loss(preds[1], labels_Sum_Image_RandonNo)\n",
        "      total_correct_sum += get_num_correct_Sum(preds[1], labels_Sum_Image_RandonNo)\n",
        "\n",
        "  print(\n",
        "      \"epoch:\", epoch, \n",
        "      \"total_correct:\", total_correct, \n",
        "      \"loss:\", total_loss,\n",
        "      \"total_correct_sum:\", total_correct_sum,\n",
        "      \"total_loss_sum:\", total_loss_sum\n",
        "  )"
      ],
      "metadata": {
        "colab": {
          "base_uri": "https://localhost:8080/"
        },
        "id": "twkQ4txJPuZl",
        "outputId": "249444c1-68e5-4458-8d21-6e88b405b8b1"
      },
      "execution_count": 26,
      "outputs": [
        {
          "output_type": "stream",
          "name": "stdout",
          "text": [
            "epoch: 0 total_correct: 55936 loss: 126.80575991398655 total_correct_sum: 55936 total_loss_sum: 148.69000012427568\n",
            "epoch: 1 total_correct: 58420 loss: 53.99028688244289 total_correct_sum: 58420 total_loss_sum: 57.06000006198883\n",
            "epoch: 2 total_correct: 58656 loss: 46.707657108374406 total_correct_sum: 58656 total_loss_sum: 48.32999990694225\n",
            "epoch: 3 total_correct: 58958 loss: 35.754497959365835 total_correct_sum: 58958 total_loss_sum: 37.72999989800155\n",
            "epoch: 4 total_correct: 58954 loss: 38.11940154446347 total_correct_sum: 58954 total_loss_sum: 36.35999991931021\n",
            "epoch: 5 total_correct: 58911 loss: 39.816984436864004 total_correct_sum: 58911 total_loss_sum: 40.989999959245324\n",
            "epoch: 6 total_correct: 59081 loss: 34.73771578959713 total_correct_sum: 59081 total_loss_sum: 33.579999931156635\n",
            "epoch: 7 total_correct: 58988 loss: 40.312292085553054 total_correct_sum: 58988 total_loss_sum: 36.52999991364777\n",
            "epoch: 8 total_correct: 59095 loss: 34.25282109384716 total_correct_sum: 59095 total_loss_sum: 33.829999934881926\n",
            "epoch: 9 total_correct: 59124 loss: 33.79775242591131 total_correct_sum: 59124 total_loss_sum: 31.439999921247363\n"
          ]
        }
      ]
    }
  ]
}